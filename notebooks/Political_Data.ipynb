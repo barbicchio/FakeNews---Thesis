{
 "cells": [
  {
   "cell_type": "code",
   "execution_count": 1,
   "metadata": {},
   "outputs": [],
   "source": [
    "import json, csv, os, ast\n",
    "from os import listdir\n",
    "from os.path import isfile, join\n",
    "import pandas as pd\n",
    "import numpy as np\n",
    "import scipy as sp\n",
    "from IPython.display import display, HTML\n",
    "import xml.etree.ElementTree\n",
    "import seaborn as sns\n",
    "import pylab as plt\n",
    "from matplotlib.backends.backend_pdf import PdfPages\n",
    "\n",
    "%matplotlib inline\n",
    "\n",
    "sns.set_style('whitegrid')\n",
    "plt.rcParams['figure.figsize']=(7,6)\n",
    "\n",
    "import matplotlib\n",
    "matplotlib.rcParams['pdf.fonttype'] = 42\n",
    "matplotlib.rcParams['ps.fonttype'] = 42"
   ]
  },
  {
   "cell_type": "code",
   "execution_count": 2,
   "metadata": {},
   "outputs": [],
   "source": [
    "# S100\n",
    "df_S100 = pd.read_csv('../../Task/BigTask/Parsed-results_S100.csv')\n",
    "df_S6 = pd.read_csv('../../Task/BigTask/Parsed-results_S6.csv')\n",
    "\n",
    "jitter = .2\n",
    "alpha = .6\n",
    "linewidth = .6\n",
    "size = 10"
   ]
  },
  {
   "cell_type": "code",
   "execution_count": 3,
   "metadata": {},
   "outputs": [],
   "source": [
    "# Funzione per Estrapolare il Dominio\n",
    "def find_domain(url):\n",
    "    st = url.split(\"/\")\n",
    "    s = st[2].split(\".\")\n",
    "    return s[1]\n",
    "def party_ln_replace(n):\n",
    "    if (n == 1):\n",
    "        return 'REP'\n",
    "    if(n == 2):\n",
    "        return 'DEM'\n",
    "def get_party(doc_name):\n",
    "    temp = doc_name.split('_')\n",
    "    return temp[0]\n",
    "\n",
    "def get_label(doc_name):\n",
    "    temp = doc_name.split('_')\n",
    "    return temp[1]\n",
    "\n",
    "def compute_data(table, scale_rel):\n",
    "    gold_dict = ['HIGH', 'LOW']\n",
    "    table = table[['doc_id', 'party_ln', scale_rel, 'rel', 'off_page_count', 'time']]\n",
    "    table = table[table[\"rel\"].isin(gold_dict) == False]\n",
    "    table = table.replace('LIE', 0).replace('FALSE', 1).replace('BARELYTRUE', 2).replace('HALFTRUE', 3).replace('MOSTLYTRUE', 4).replace('TRUE', 5)\n",
    "    table['worker_party'] = table.apply(lambda row: party_ln_replace(row.party_ln), axis = 1)\n",
    "    table['party_doc'] = table['doc_id']\n",
    "    table['party_doc'] = table.apply(lambda row: get_party(row.party_doc), axis = 1)\n",
    "    table['label'] = table.apply(lambda row: get_label(row.doc_id), axis = 1)\n",
    "    dem_df = table.loc[table['worker_party'] == 'DEM']\n",
    "    rep_df = table.loc[table['worker_party'] == 'REP']\n",
    "    dem_df = dem_df[['label', 'time', 'off_page_count', 'rel', 'doc_id']]\n",
    "    rep_df = rep_df[['label', 'time', 'off_page_count', 'rel', 'doc_id']]\n",
    "   # print(\"-------------------------------------------------\")\n",
    "   # print(\"Dem on all\")\n",
    "   # print(round(dem_df[\"time\"].mean(), 3))\n",
    "   # print(round(dem_df[\"off_page_count\"].mean(), 3))\n",
    "   # print(\"\\n\")\n",
    "    #print(\"Rep on all\")\n",
    "    #print(round(rep_df[\"time\"].mean(), 3))\n",
    "    #print(round(rep_df[\"off_page_count\"].mean(), 3))\n",
    "    #print(\"-------------------------------------------------\")\n",
    "    grouped_dem = dem_df.groupby(['label']).agg('mean')\n",
    "    grouped_dem = grouped_dem.reindex([\"LIE\", \"FALSE\", \"BARELYTRUE\", \"HALFTRUE\", \"MOSTLYTRUE\", \"TRUE\"])\n",
    "    #display(grouped_dem.head(6))\n",
    "    grouped_rep = rep_df.groupby(['label']).agg('mean')\n",
    "    grouped_rep = grouped_rep.reindex([\"LIE\", \"FALSE\", \"BARELYTRUE\", \"HALFTRUE\", \"MOSTLYTRUE\", \"TRUE\"])\n",
    "    #display(grouped_rep.head(6))\n",
    "    return grouped_dem, grouped_rep, table, dem_df, rep_df"
   ]
  },
  {
   "cell_type": "code",
   "execution_count": 4,
   "metadata": {},
   "outputs": [],
   "source": [
    "grouped_dem_S100, grouped_rep_S100, df_S100, dem_df_S100, rep_df_S100 = compute_data(df_S100, 'S100_rel')\n",
    "grouped_dem_S6, grouped_rep_S6, df_S6, dem_df_S6, rep_df_S6 = compute_data(df_S6, 'S6_rel')"
   ]
  },
  {
   "cell_type": "code",
   "execution_count": 17,
   "metadata": {},
   "outputs": [
    {
     "data": {
      "image/png": "[encoded data removed]",
      "text/plain": [
       "<Figure size 432x288 with 1 Axes>"
      ]
     },
     "metadata": {
      "needs_background": "light"
     },
     "output_type": "display_data"
    }
   ],
   "source": [
    " gold_dict = ['HIGH', 'LOW']\n",
    "\n",
    "mergedS100 = dem_df_S100[['doc_id', \"time\", 'rel']].groupby(['doc_id']).agg('mean').reset_index()\n",
    "mergedS6 = rep_df_S100[['doc_id', \"time\", 'rel']].groupby(['doc_id']).agg('mean').reset_index()\n",
    "\n",
    "m = {\"s\": 15, \"alpha\": alpha, 'linewidths': linewidth, \"facecolor\": '#343deb','edgecolor': 'black'}\n",
    "m2 = {\"s\": 15, \"alpha\": alpha, 'linewidths': linewidth, \"facecolor\": '#eb3434','edgecolor': 'black'}\n",
    "#plt.figure(figsize=(9, 6))\n",
    "ax = sns.regplot(x = 'rel', y = 'time', data = mergedS100, fit_reg = False, \n",
    "                 x_jitter = .28, scatter_kws = m)\n",
    "sns.boxplot( x = 'rel', y = \"time\", data = mergedS100, \n",
    "            boxprops = dict(facecolor = '#343deb', alpha=0.1, zorder = 0))\n",
    "ax.set_title(\"Total Correlations S100 Scale \")\n",
    "ax.set_xticklabels(['Lie', 'False', 'Barely\\nTrue', 'Half\\nTrue', 'Mostly\\nTrue', 'True'])\n",
    "#ax.set_yticklabels(['Lie', 'False', 'Barely\\nTrue', 'Half\\nTrue', 'Mostly\\nTrue', 'True'])\n",
    "ax.set(ylabel = 'S100_rel', xlabel = 'Ground Truth')\n",
    "sns.despine (top=False,right=False,left=False,bottom=False)"
   ]
  },
  {
   "cell_type": "code",
   "execution_count": 15,
   "metadata": {},
   "outputs": [
    {
     "data": {
      "image/png": "[encoded data removed]",
      "text/plain": [
       "<Figure size 432x288 with 1 Axes>"
      ]
     },
     "metadata": {
      "needs_background": "light"
     },
     "output_type": "display_data"
    }
   ],
   "source": [
    "ax.set_title(\"Total Correlations S100 Scale \")\n",
    "ax.set_xticklabels(['Lie', 'False', 'Barely\\nTrue', 'Half\\nTrue', 'Mostly\\nTrue', 'True'])\n",
    "ax.set_yticklabels(['Lie', 'False', 'Barely\\nTrue', 'Half\\nTrue', 'Mostly\\nTrue', 'True'])\n",
    "ax1 = sns.regplot(x = 'rel', y = 'time', data = mergedS6, fit_reg = False, \n",
    "                 x_jitter = .28, scatter_kws = m2)\n",
    "sns.boxplot( x = 'rel', y = \"time\", data = mergedS6, \n",
    "            boxprops = dict(facecolor = '#eb3434', alpha=0.1, zorder = 0))\n",
    "ax.set(ylabel = 'S100_rel', xlabel = 'Ground Truth')\n",
    "sns.despine (top=False,right=False,left=False,bottom=False)"
   ]
  },
  {
   "cell_type": "code",
   "execution_count": null,
   "metadata": {},
   "outputs": [],
   "source": [
    "fig, axs = plt.subplots(nrows = 2, ncols = 2)\n",
    "\n",
    "ax1 = sns.barplot(x = grouped_dem_S6.index, y = 'time', data = grouped_dem_S6, palette = sns.dark_palette(\"muted purple\", input=\"xkcd\"), ax = axs[0][0])\n",
    "ax2 = sns.barplot(x = grouped_dem_S100.index, y = 'time', data = grouped_dem_S100, palette = sns.dark_palette(\"muted purple\", input=\"xkcd\"), ax = axs[0][1])\n",
    "ax3 = sns.barplot(x = grouped_rep_S6.index, y = 'time', data = grouped_rep_S6, palette = sns.dark_palette(\"muted purple\", input=\"xkcd\"), ax = axs[1][0])\n",
    "ax4 = sns.barplot(x = grouped_rep_S100.index, y = 'time', data = grouped_rep_S100, palette = sns.dark_palette(\"muted purple\", input=\"xkcd\"), ax = axs[1][1])\n",
    "\n",
    "ax1.set_xticklabels(['Lie', 'False', 'Barely\\nTrue', 'Half\\nTrue', 'Mostly\\nTrue', 'True'])\n",
    "ax1.set(title = \"S6 Scale\", ylabel = 'Democrats Time', xlabel = '')\n",
    "ax1.set_yticks(np.arange(0, 175, step = 50))\n",
    "ax2.set_xticklabels(['Lie', 'False', 'Barely\\nTrue', 'Half\\nTrue', 'Mostly\\nTrue', 'True'])\n",
    "ax2.set(title = \"S100 Scale\", ylabel = '', xlabel = '')\n",
    "ax2.set_yticks(np.arange(0, 175, step = 50))\n",
    "ax3.set_xticklabels(['Lie', 'False', 'Barely\\nTrue', 'Half\\nTrue', 'Mostly\\nTrue', 'True'])\n",
    "ax3.set(ylabel = 'Republicans Time', xlabel = 'Labels')\n",
    "ax3.set_yticks(np.arange(0, 175, step = 50))\n",
    "ax4.set_xticklabels(['Lie', 'False', 'Barely\\nTrue', 'Half\\nTrue', 'Mostly\\nTrue', 'True'])\n",
    "ax4.set(ylabel = '', xlabel = 'Labels')\n",
    "ax4.set_yticks(np.arange(0, 175, step = 50))\n",
    "fig.suptitle(\"Party vs All Statements\\nMean Time per Statement\")"
   ]
  },
  {
   "cell_type": "code",
   "execution_count": null,
   "metadata": {},
   "outputs": [],
   "source": []
  },
  {
   "cell_type": "code",
   "execution_count": null,
   "metadata": {},
   "outputs": [],
   "source": [
    "fig, axs = plt.subplots(nrows = 2, ncols = 2)\n",
    "ax1 = sns.barplot(x = grouped_dem_S6.index, y = 'off_page_count', data = grouped_dem_S6, palette = sns.dark_palette(\"muted purple\", input=\"xkcd\"),  ax=axs[0][0])\n",
    "ax2 = sns.barplot(x = grouped_dem_S100.index, y = 'off_page_count', data = grouped_dem_S100, palette = sns.dark_palette(\"muted purple\", input=\"xkcd\"), ax=axs[0][1])\n",
    "ax3 = sns.barplot(x = grouped_rep_S6.index, y = 'off_page_count', data = grouped_rep_S6, palette = sns.dark_palette(\"muted purple\", input=\"xkcd\"), ax=axs[1][0])\n",
    "ax4 = sns.barplot(x = grouped_rep_S100.index, y = 'off_page_count', data = grouped_rep_S100, palette = sns.dark_palette(\"muted purple\", input=\"xkcd\"), ax=axs[1][1])\n",
    "ax1.set_xticklabels(['Lie', 'False', 'Barely\\nTrue', 'Half\\nTrue', 'Mostly\\nTrue', 'True'])\n",
    "ax1.set(title = \"S6 Scale\", ylabel = 'Democrats\\nOff Page Count', xlabel = '')\n",
    "ax1.set_yticks(np.arange(0, 3, step = .5))\n",
    "ax2.set_xticklabels(['Lie', 'False', 'Barely\\nTrue', 'Half\\nTrue', 'Mostly\\nTrue', 'True'])\n",
    "ax2.set(title = \"S100 Scale\", ylabel = '', xlabel = '')\n",
    "ax2.set_yticks(np.arange(0, 3, step = .5))\n",
    "ax3.set_xticklabels(['Lie', 'False', 'Barely\\nTrue', 'Half\\nTrue', 'Mostly\\nTrue', 'True'])\n",
    "ax3.set(ylabel = 'Republicans\\nOff Page Count', xlabel = 'Labels')\n",
    "ax3.set_yticks(np.arange(0, 3, step = .5))\n",
    "ax4.set_xticklabels(['Lie', 'False', 'Barely\\nTrue', 'Half\\nTrue', 'Mostly\\nTrue', 'True'])\n",
    "ax4.set(ylabel = '', xlabel = 'Labels')\n",
    "ax4.set_yticks(np.arange(0, 3, step = .5))\n",
    "fig.suptitle(\"Party vs All Statements\\nMean Off Page Count per Statement\")"
   ]
  },
  {
   "cell_type": "code",
   "execution_count": null,
   "metadata": {},
   "outputs": [],
   "source": [
    "# DEM SU DEM | DEM SU REP | REP SU REP | REP SU DEM\n",
    "dem_dem_df_S100 = df_S100.loc[(df_S100['worker_party'] == 'DEM') & (df_S100['party_doc'] == 'DEM')]\n",
    "dem_rep_df_S100 = df_S100.loc[(df_S100['worker_party'] == 'DEM') & (df_S100['party_doc'] == 'REP')]\n",
    "rep_rep_df_S100 = df_S100.loc[(df_S100['worker_party'] == 'REP') & (df_S100['party_doc'] == 'REP')]\n",
    "rep_dem_df_S100 = df_S100.loc[(df_S100['worker_party'] == 'REP') & (df_S100['party_doc'] == 'DEM')]\n",
    "\n",
    "dem_dem_df_S100 = dem_dem_df_S100[['label', 'time', 'off_page_count']]\n",
    "dem_rep_df_S100 = dem_rep_df_S100[['label', 'time', 'off_page_count']]\n",
    "rep_rep_df_S100 = rep_rep_df_S100[['label', 'time', 'off_page_count']]\n",
    "rep_dem_df_S100 = rep_dem_df_S100[['label', 'time', 'off_page_count']]\n",
    "\n",
    "dem_dem_df_S6 = df_S6.loc[(df_S6['worker_party'] == 'DEM') & (df_S6['party_doc'] == 'DEM')]\n",
    "dem_rep_df_S6 = df_S6.loc[(df_S6['worker_party'] == 'DEM') & (df_S6['party_doc'] == 'REP')]\n",
    "rep_rep_df_S6 = df_S6.loc[(df_S6['worker_party'] == 'REP') & (df_S6['party_doc'] == 'REP')]\n",
    "rep_dem_df_S6 = df_S6.loc[(df_S6['worker_party'] == 'REP') & (df_S6['party_doc'] == 'DEM')]\n",
    "\n",
    "dem_dem_df_S6 = dem_dem_df_S6[['label', 'time', 'off_page_count']]\n",
    "dem_rep_df_S6 = dem_rep_df_S6[['label', 'time', 'off_page_count']]\n",
    "rep_rep_df_S6 = rep_rep_df_S6[['label', 'time', 'off_page_count']]\n",
    "rep_dem_df_S6 = rep_dem_df_S6[['label', 'time', 'off_page_count']]"
   ]
  },
  {
   "cell_type": "code",
   "execution_count": null,
   "metadata": {},
   "outputs": [],
   "source": [
    "grouped_dem_dem_S100 = dem_dem_df_S100.groupby(['label']).agg('mean')\n",
    "grouped_dem_dem_S100 = grouped_dem_dem_S100.reindex([\"LIE\", \"FALSE\", \"BARELYTRUE\", \"HALFTRUE\", \"MOSTLYTRUE\", \"TRUE\"])\n",
    "grouped_dem_dem_S6 = dem_dem_df_S6.groupby(['label']).agg('mean')\n",
    "grouped_dem_dem_S6 = grouped_dem_dem_S6.reindex([\"LIE\", \"FALSE\", \"BARELYTRUE\", \"HALFTRUE\", \"MOSTLYTRUE\", \"TRUE\"])\n",
    "\n",
    "grouped_dem_rep_S100 = dem_rep_df_S100.groupby(['label']).agg('mean')\n",
    "grouped_dem_rep_S100 = grouped_dem_rep_S100.reindex([\"LIE\", \"FALSE\", \"BARELYTRUE\", \"HALFTRUE\", \"MOSTLYTRUE\", \"TRUE\"])\n",
    "grouped_dem_rep_S6 = dem_rep_df_S6.groupby(['label']).agg('mean')\n",
    "grouped_dem_rep_S6 = grouped_dem_rep_S6.reindex([\"LIE\", \"FALSE\", \"BARELYTRUE\", \"HALFTRUE\", \"MOSTLYTRUE\", \"TRUE\"])\n",
    "\n",
    "fig, axs = plt.subplots(nrows = 2, ncols = 2)\n",
    "ax1 = sns.barplot(x = grouped_dem_dem_S6.index, y = 'time', data = grouped_dem_dem_S6, palette = sns.dark_palette(\"muted purple\", input=\"xkcd\"), ax = axs[0][0])\n",
    "ax2 = sns.barplot(x = grouped_dem_dem_S100.index, y = 'time', data = grouped_dem_dem_S100, palette = sns.dark_palette(\"muted purple\", input=\"xkcd\"), ax = axs[0][1])\n",
    "ax3 = sns.barplot(x = grouped_dem_rep_S6.index, y = 'time', data = grouped_dem_rep_S6, palette = sns.dark_palette(\"muted purple\", input=\"xkcd\"), ax = axs[1][0])\n",
    "ax4 = sns.barplot(x = grouped_dem_rep_S100.index, y = 'time', data = grouped_dem_rep_S100, palette = sns.dark_palette(\"muted purple\", input=\"xkcd\"), ax = axs[1][1])\n",
    "\n",
    "ax1.set_xticklabels(['Lie', 'False', 'Barely\\nTrue', 'Half\\nTrue', 'Mostly\\nTrue', 'True'])\n",
    "ax1.set(title = \"S6 Scale\", ylabel = 'Democrats vs Democrats\\nTime', xlabel = '')\n",
    "ax1.set_yticks(np.arange(0, 175, step = 50))\n",
    "ax2.set_xticklabels(['Lie', 'False', 'Barely\\nTrue', 'Half\\nTrue', 'Mostly\\nTrue', 'True'])\n",
    "ax2.set(title = \"S100 Scale\", ylabel = '', xlabel = '')\n",
    "ax2.set_yticks(np.arange(0, 175, step = 50))\n",
    "ax3.set_xticklabels(['Lie', 'False', 'Barely\\nTrue', 'Half\\nTrue', 'Mostly\\nTrue', 'True'])\n",
    "ax3.set(ylabel = 'Democrats vs Republicans\\nTime', xlabel = 'Labels')\n",
    "ax3.set_yticks(np.arange(0, 175, step = 50))\n",
    "ax4.set_xticklabels(['Lie', 'False', 'Barely\\nTrue', 'Half\\nTrue', 'Mostly\\nTrue', 'True'])\n",
    "ax4.set(ylabel = '', xlabel = 'Labels')\n",
    "ax4.set_yticks(np.arange(0, 175, step = 50))\n",
    "fig.suptitle(\"Democrat vs Democrat on top\\nDemocrat vs Republican on bottom\\nMean Time per Statement\")"
   ]
  },
  {
   "cell_type": "code",
   "execution_count": null,
   "metadata": {},
   "outputs": [],
   "source": []
  },
  {
   "cell_type": "code",
   "execution_count": null,
   "metadata": {},
   "outputs": [],
   "source": [
    "fig, axs = plt.subplots(nrows = 2, ncols = 2)\n",
    "ax1 = sns.barplot(x = grouped_dem_dem_S6.index, y = 'off_page_count', data = grouped_dem_dem_S6, palette = sns.dark_palette(\"muted purple\", input=\"xkcd\"), ax = axs[0][0])\n",
    "ax2 = sns.barplot(x = grouped_dem_dem_S100.index, y = 'off_page_count', data = grouped_dem_dem_S100, palette = sns.dark_palette(\"muted purple\", input=\"xkcd\"), ax = axs[0][1])\n",
    "ax3 = sns.barplot(x = grouped_dem_rep_S6.index, y = 'off_page_count', data = grouped_dem_rep_S6, palette = sns.dark_palette(\"muted purple\", input=\"xkcd\"), ax = axs[1][0])\n",
    "ax4 = sns.barplot(x = grouped_dem_rep_S100.index, y = 'off_page_count', data = grouped_dem_rep_S100, palette = sns.dark_palette(\"muted purple\", input=\"xkcd\"), ax = axs[1][1])\n",
    "\n",
    "ax1.set_xticklabels(['Lie', 'False', 'Barely\\nTrue', 'Half\\nTrue', 'Mostly\\nTrue', 'True'])\n",
    "ax1.set(title = \"S6 Scale\", ylabel = 'Democrats vs Democrats\\nOff Page Count', xlabel = '')\n",
    "ax1.set_yticks(np.arange(0, 3, step = .5))\n",
    "ax2.set_xticklabels(['Lie', 'False', 'Barely\\nTrue', 'Half\\nTrue', 'Mostly\\nTrue', 'True'])\n",
    "ax2.set(title = \"S100 Scale\", ylabel = '', xlabel = '')\n",
    "ax2.set_yticks(np.arange(0, 3, step = .5))\n",
    "ax3.set_xticklabels(['Lie', 'False', 'Barely\\nTrue', 'Half\\nTrue', 'Mostly\\nTrue', 'True'])\n",
    "ax3.set(ylabel = 'Democrats vs Republicans\\nOff Page Count', xlabel = 'Labels')\n",
    "ax3.set_yticks(np.arange(0, 3, step = .5))\n",
    "ax4.set_xticklabels(['Lie', 'False', 'Barely\\nTrue', 'Half\\nTrue', 'Mostly\\nTrue', 'True'])\n",
    "ax4.set(ylabel = '', xlabel = 'Labels')\n",
    "ax4.set_yticks(np.arange(0, 3, step = .5))\n",
    "fig.suptitle(\"Democrat vs Democrat on top\\nDemocrat vs Republican on bottom\\nMean Off Page Count per Statement\")"
   ]
  },
  {
   "cell_type": "code",
   "execution_count": null,
   "metadata": {},
   "outputs": [],
   "source": [
    "grouped_rep_rep_S100 = rep_rep_df_S100.groupby(['label']).agg('mean')\n",
    "grouped_rep_rep_S100 = grouped_rep_rep_S100.reindex([\"LIE\", \"FALSE\", \"BARELYTRUE\", \"HALFTRUE\", \"MOSTLYTRUE\", \"TRUE\"])\n",
    "grouped_rep_rep_S6 = rep_rep_df_S6.groupby(['label']).agg('mean')\n",
    "grouped_rep_rep_S6 = grouped_rep_rep_S6.reindex([\"LIE\", \"FALSE\", \"BARELYTRUE\", \"HALFTRUE\", \"MOSTLYTRUE\", \"TRUE\"])\n",
    "\n",
    "grouped_rep_dem_S100 = rep_dem_df_S100.groupby(['label']).agg('mean')\n",
    "grouped_rep_dem_S100 = grouped_rep_dem_S100.reindex([\"LIE\", \"FALSE\", \"BARELYTRUE\", \"HALFTRUE\", \"MOSTLYTRUE\", \"TRUE\"])\n",
    "grouped_rep_dem_S6 = rep_dem_df_S6.groupby(['label']).agg('mean')\n",
    "grouped_rep_dem_S6 = grouped_rep_dem_S6.reindex([\"LIE\", \"FALSE\", \"BARELYTRUE\", \"HALFTRUE\", \"MOSTLYTRUE\", \"TRUE\"])\n",
    "\n",
    "fig, axs = plt.subplots(nrows = 2, ncols = 2)\n",
    "ax1 = sns.barplot(x = grouped_rep_rep_S6.index, y = 'time', data = grouped_rep_rep_S6, palette = sns.dark_palette(\"muted purple\", input=\"xkcd\"), ax = axs[0][0])\n",
    "ax2 = sns.barplot(x = grouped_rep_rep_S100.index, y = 'time', data = grouped_rep_rep_S100, palette = sns.dark_palette(\"muted purple\", input=\"xkcd\"), ax = axs[0][1])\n",
    "ax3 = sns.barplot(x = grouped_rep_dem_S6.index, y = 'time', data = grouped_rep_dem_S6, palette = sns.dark_palette(\"muted purple\", input=\"xkcd\"), ax = axs[1][0])\n",
    "ax4 = sns.barplot(x = grouped_rep_dem_S100.index, y = 'time', data = grouped_rep_dem_S100, palette = sns.dark_palette(\"muted purple\", input=\"xkcd\"), ax = axs[1][1])\n",
    "\n",
    "ax1.set_xticklabels(['Lie', 'False', 'Barely\\nTrue', 'Half\\nTrue', 'Mostly\\nTrue', 'True'])\n",
    "ax1.set(title = \"S6 Scale\", ylabel = 'Republicans vs Republicans\\nTime', xlabel = '')\n",
    "ax1.set_yticks(np.arange(0, 175, step = 50))\n",
    "ax2.set_xticklabels(['Lie', 'False', 'Barely\\nTrue', 'Half\\nTrue', 'Mostly\\nTrue', 'True'])\n",
    "ax2.set(title = \"S100 Scale\", ylabel = '', xlabel = '')\n",
    "ax2.set_yticks(np.arange(0, 175, step = 50))\n",
    "ax3.set_xticklabels(['Lie', 'False', 'Barely\\nTrue', 'Half\\nTrue', 'Mostly\\nTrue', 'True'])\n",
    "ax3.set(ylabel = 'Republicans vs Democrats\\nTime', xlabel = 'Labels')\n",
    "ax3.set_yticks(np.arange(0, 175, step = 50))\n",
    "ax4.set_xticklabels(['Lie', 'False', 'Barely\\nTrue', 'Half\\nTrue', 'Mostly\\nTrue', 'True'])\n",
    "ax4.set(ylabel = '', xlabel = 'Labels')\n",
    "ax4.set_yticks(np.arange(0, 175, step = 50))\n",
    "fig.suptitle(\"Republicans vs Republicans on top\\nRepublicans vs Democrats on bottom\\nMean Time per Statement\")"
   ]
  },
  {
   "cell_type": "code",
   "execution_count": null,
   "metadata": {},
   "outputs": [],
   "source": []
  },
  {
   "cell_type": "code",
   "execution_count": null,
   "metadata": {},
   "outputs": [],
   "source": [
    "print(\"-------------------------------------------------\")\n",
    "print(\"Dem on Dem\")\n",
    "print(round(dem_dem_df[\"time\"].mean(), 3))\n",
    "print(round(dem_dem_df[\"off_page_count\"].mean(), 3))\n",
    "print(\"\\n\")\n",
    "print(\"Dem on Rep\")\n",
    "print(round(dem_rep_df[\"time\"].mean(), 3))\n",
    "print(round(dem_rep_df[\"off_page_count\"].mean(), 3))\n",
    "print(\"-------------------------------------------------\")\n",
    "print(\"\\n\")\n",
    "print(\"Rep on Rep\")\n",
    "print(round(rep_rep_df[\"time\"].mean(), 3))\n",
    "print(round(rep_rep_df[\"off_page_count\"].mean(), 3))\n",
    "print(\"\\n\")\n",
    "print(\"Rep on Dem\")\n",
    "print(round(rep_dem_df[\"time\"].mean(), 3))\n",
    "print(round(rep_dem_df[\"off_page_count\"].mean(), 3))\n",
    "print(\"-------------------------------------------------\")\n",
    "grouped_dem_dem = dem_dem_df.groupby(['label']).agg('mean')\n",
    "display(grouped_dem_dem.head(6))\n",
    "\n",
    "grouped_dem_rep = dem_rep_df.groupby(['label']).agg('mean')\n",
    "display(grouped_dem_rep.head(6))\n",
    "\n",
    "grouped_rep_rep = rep_rep_df.groupby(['label']).agg('mean')\n",
    "display(grouped_rep_rep.head(6))\n",
    "\n",
    "grouped_rep_dem = rep_dem_df.groupby(['label']).agg('mean')\n",
    "display(grouped_rep_dem.head(6))"
   ]
  },
  {
   "cell_type": "code",
   "execution_count": null,
   "metadata": {},
   "outputs": [],
   "source": [
    "my_df = df\n",
    "display(my_df.shape[0])\n",
    "my_df['url'][80] = \"http://www.fakeURL.com\"\n",
    "my_df['url'][373] = \"http://www.fakeURL.com\"\n",
    "# Prendo i domini\n",
    "my_df['url'] = my_df.apply(lambda row: find_domain(row.url), axis = 1)\n",
    "\n",
    "poli_df = my_df[my_df['url'] == 'politifact']\n",
    "print(\"Numero di polifact: {}\". format(poli_df.shape[0]))\n",
    "print(\"Numero Totale: {}\". format(my_df.shape[0]))\n",
    "ratio = poli_df.shape[0] / my_df.shape[0]\n",
    "print(\"{} / {} = {}\".format(poli_df.shape[0], my_df.shape[0], ratio))"
   ]
  },
  {
   "cell_type": "code",
   "execution_count": null,
   "metadata": {},
   "outputs": [],
   "source": [
    "# Numero volte polifact, S6 e label coincide\n",
    "my_df = df_s6\n",
    "# Prendo i domini\n",
    "my_df['url'] = my_df.apply(lambda row: find_domain(row.url), axis = 1)\n",
    "poli_df = my_df[my_df['url'] == 'politifact']\n",
    "\n",
    "print(\"Numero di polifact: {}\". format(poli_df.shape[0]))\n",
    "print(\"Numero Totale: {}\". format(my_df.shape[0]))\n",
    "ratio = poli_df.shape[0] / my_df.shape[0]\n",
    "print(\"{} / {} = {}\".format(poli_df.shape[0], my_df.shape[0], ratio))"
   ]
  }
 ],
 "metadata": {
  "kernelspec": {
   "display_name": "Python 3",
   "language": "python",
   "name": "python3"
  },
  "language_info": {
   "codemirror_mode": {
    "name": "ipython",
    "version": 3
   },
   "file_extension": ".py",
   "mimetype": "text/x-python",
   "name": "python",
   "nbconvert_exporter": "python",
   "pygments_lexer": "ipython3",
   "version": "3.6.4"
  }
 },
 "nbformat": 4,
 "nbformat_minor": 2
}
