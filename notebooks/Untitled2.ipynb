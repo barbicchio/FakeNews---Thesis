{
 "cells": [
  {
   "cell_type": "code",
   "execution_count": 14,
   "metadata": {},
   "outputs": [],
   "source": [
    "import json, csv, os, ast\n",
    "from os import listdir\n",
    "from os.path import isfile, join\n",
    "import pandas as pd\n",
    "import numpy as np\n",
    "import scipy as sp\n",
    "from IPython.display import display, HTML\n",
    "import xml.etree.ElementTree\n",
    "import seaborn as sns\n",
    "import pylab as plt\n",
    "from matplotlib.backends.backend_pdf import PdfPages\n",
    "from urllib.parse import urlparse\n",
    "from googlesearch import search"
   ]
  },
  {
   "cell_type": "code",
   "execution_count": 2,
   "metadata": {},
   "outputs": [],
   "source": [
    "def find_domain(url):\n",
    "    st = url.split(\"/\")\n",
    "    s = st[2].split('.')\n",
    "    return s[1]"
   ]
  },
  {
   "cell_type": "code",
   "execution_count": 3,
   "metadata": {},
   "outputs": [
    {
     "name": "stdout",
     "output_type": "stream",
     "text": [
      "done\n"
     ]
    }
   ],
   "source": [
    "label = 'true'\n",
    "path = r\"C:\\Users\\barbe\\Documents\\remote-units\\{}\".format(label)\n",
    "lst = []\n",
    "for filename in os.listdir(path):\n",
    "    f = open(r\"C:\\Users\\barbe\\Documents\\remote-units\\{}\\{}\".format(label,filename), \"r\")\n",
    "    temp = f.read()\n",
    "    t = temp.split(\"=++=\")\n",
    "    doc = t[1]\n",
    "    query = t[2]\n",
    "    for j in search(query, tld = \"co.in\", num = 10, stop = 1, pause = 0): \n",
    "        lst.append(j)\n",
    "print ('done')\n",
    "with open(r\"C:\\Users\\barbe\\Dropbox\\FakeNews-thesis-LaBarbera\\search_{}.txt\".format(label), 'w') as f:\n",
    "    for item in lst:\n",
    "        f.write(\"%s\\n\" % item)\n",
    "#for filename in glob.glob(os.path.join(path, '*.txt')):"
   ]
  },
  {
   "cell_type": "code",
   "execution_count": 4,
   "metadata": {},
   "outputs": [
    {
     "name": "stdout",
     "output_type": "stream",
     "text": [
      "91\n",
      "0.76\n"
     ]
    }
   ],
   "source": [
    "f = open(r\"C:\\Users\\barbe\\Dropbox\\FakeNews-thesis-LaBarbera\\Docs_URLS\\search.txt\", \"r\")\n",
    "urls = []\n",
    "for line in f:\n",
    "    urls.append(find_domain(line))\n",
    "\n",
    "count = 0\n",
    "for i in urls:\n",
    "    if(i == 'politifact'):\n",
    "        count += 1\n",
    "        \n",
    "print (count)\n",
    "print(round(91/120, 2))"
   ]
  },
  {
   "cell_type": "code",
   "execution_count": 40,
   "metadata": {
    "scrolled": false
   },
   "outputs": [
    {
     "name": "stdout",
     "output_type": "stream",
     "text": [
      "1600\n",
      "1597\n",
      "S6 Scale same urls count: 610\n",
      "S100 Scale same urls count: 618\n",
      "Same urls count: 4309\n",
      "done.\n",
      "Same urls count: 94\n",
      "done.\n",
      "['https://www.politifact.com/virginia/statements/2015/nov/02/terry-mcauliffe/mcauliffe-says-40-percent-gun-sales-escape-backgro/', 'https://www.politifact.com/truth-o-meter/statements/2011/dec/11/rick-perry/rick-perry-says-mitt-romneys-book-deleted-line-mas/', 'https://en.wikipedia.org/wiki/Automotive_industry_in_the_United_States', 'https://www.politifact.com/truth-o-meter/statements/2016/jan/18/hillary-clinton/hillary-clinton-we-now-have-driven-costs-down-tgo-/', 'https://www.politifact.com/truth-o-meter/statements/2008/feb/01/barack-obama/clinton-voted-for-mccain-supported-iran-resolution/', 'https://www.politifact.com/truth-o-meter/statements/2013/mar/21/ted-cruz/sen-ted-cruz-says-federal-government-thinks-it-has/', 'https://www.politifact.com/truth-o-meter/statements/2010/apr/28/alfredo-gutierrez/arizona-immigration-law-allows-police-question-any/', 'https://www.politifact.com/personalities/gina-raimondo/statements/about/', 'https://www.politifact.com/florida/statements/2013/apr/03/will-weatherford/will-weatherford-compares-tuition-costs-cellphone-/', 'https://www.politico.com/blogs/ben-smith/2007/10/a-noun-a-verb-and-9-11-003927', 'https://www.politifact.com/north-carolina/statements/2016/apr/13/paul-skip-stam/nc-rep-stam-says-states-controversial-new-law-isnt/', 'https://www.politifact.com/new-jersey/statements/2012/nov/26/robert-menendez/us-sen-robert-menendez-says-latino-voters-made-dif/', 'https://www.politifact.com/florida/statements/2012/feb/14/marco-rubio/marco-rubio-us-supreme-court-justice-south-african/', 'https://www.politifact.com/truth-o-meter/statements/2008/jun/20/john-mccain/pushing-the-envelope-to-link-debt-and-energy/', 'https://www.politifact.com/truth-o-meter/statements/2011/apr/28/john-boehner/john-boehner-says-obama-took-exactly-none-his-own-/', 'https://www.politifact.com/new-jersey/statements/2011/oct/27/chris-christie/chris-christie-claims-judges-reap-better-pension-b/', 'https://www.politifact.com/truth-o-meter/statements/2012/aug/31/mitt-romney/mitt-romney-says-michelle-obama-praised-bain-compa/', 'https://www.politifact.com/ohio/statements/2013/jun/07/tom-letson/state-rep-tom-letson-suggests-ohio-gov-john-kasich/', 'https://www.politifact.com/truth-o-meter/statements/2012/may/21/mitt-romney/mitt-romney-said-he-actually-cut-spending-massachu/', 'https://www.politifact.com/virginia/statements/2011/dec/30/eric-cantor/cantor-says-small-businesses-create-70-percent-us-/', 'https://www.politifact.com/truth-o-meter/statements/2016/may/27/donald-trump/donald-trump-says-clinton-foundation-pays-top-wome/', 'https://www.politifact.com/oregon/statements/2014/oct/30/dennis-richardson/are-oregonians-earning-less-now-when-john-kitzhabe/', 'https://www.politifact.com/wisconsin/statements/2013/mar/04/scott-walker/two-thirds-collecting-unemployment-dont-have-look-/', 'https://www.politifact.com/wisconsin/statements/2014/aug/10/duey-stroebel/stroebel-says-compromise-vote-opponents-cost-788-m/', 'https://www.politifact.com/texas/statements/2012/sep/13/mark-strama/mark-strama-says-rush-limbaugh-made-it-clear-hed-r/', 'https://www.politifact.com/texas/statements/2015/apr/08/sid-miller/sid-miller-says-we-have-towns-west-texas-are-out-w/', 'https://www.politifact.com/texas/statements/2010/may/29/john-cornyn/cornyn-says-arizona-immigration-law-bans-racial-pr/', 'https://www.politifact.com/truth-o-meter/statements/2014/oct/22/tom-cotton/cotton-pryor-votes-obama-93-percent-time/', 'https://www.politifact.com/florida/statements/2011/may/05/joe-gibbons/democratic-state-rep-joe-gibbons-says-floridians-d/', 'https://www.politifact.com/truth-o-meter/statements/2015/sep/30/donald-trump/donald-trump-says-unemployment-rate-may-be-42-perc/', 'https://www.politifact.com/georgia/statements/2011/aug/29/newt-gingrich/gingrich-says-defense-spending-historic-low/', 'https://www.politifact.com/truth-o-meter/statements/2014/jul/14/donna-edwards/democratic-rep-donna-edwards-says-74-republicans-s/', 'https://www.rollcall.com/news/congress/paul-ryan-breaks-silence-with-advice-for-democrats-on-how-to-beat-trump', 'https://www.politifact.com/wisconsin/statements/2016/jun/03/robin-vos/robin-vos-takes-aim-chicago-bears-quarterbacks-and/', 'https://www.politifact.com/wisconsin/statements/2012/mar/04/christine-sinicki/state-rep-christine-sinicki-says-sen-glenn-grothma/', 'https://www.politifact.com/truth-o-meter/statements/2015/jan/21/barack-obama/barack-obama-says-us-economy-creating-jobs-fastest/', 'https://www.politifact.com/truth-o-meter/article/2011/sep/16/fact-checking-whats-obamas-jobs-bill/', 'https://www.politifact.com/truth-o-meter/statements/2008/apr/17/barack-obama/clinton-accepts-lobbyist-money/', 'https://www.politifact.com/truth-o-meter/statements/2008/feb/27/hillary-clinton/et-tu-clinton/', 'https://www.politifact.com/punditfact/statements/2014/jun/22/donna-brazile/donna-brazile-no-conspiracy-here-irs-targeted-libe/', 'https://www.politifact.com/truth-o-meter/statements/2009/jun/04/barack-obama/obama-claims-america-one-largest-muslim-countries/', 'https://www.politifact.com/truth-o-meter/statements/2013/jul/22/mitch-mcconnell/obama-only-four-nominations-defeated-mcconnell-say/', 'https://www.politifact.com/texas/statements/2010/jul/14/bill-white/white-perrys-texas-we-import-nurses/', 'https://www.politifact.com/florida/statements/2010/sep/17/allen-west/Allen-West-Ron-Klein-repeatedly-voted-amnesty/', 'https://www.politifact.com/personalities/mike-haridopolos/statements/byruling/true/', 'https://www.politifact.com/truth-o-meter/statements/2016/mar/13/donald-trump/donald-trump-wrongly-links-campaign-event-proteste/', 'https://www.politifact.com/truth-o-meter/statements/2012/sep/14/mitt-romney/romney-ad-blames-obama-florida-housing-woes/', 'https://www.politifact.com/new-york/statements/2016/jul/22/andrew-cuomo/new-york-has-more-private-sector-jobs-ever/', 'https://www.politifact.com/virginia/statements/2013/may/17/terry-mcauliffe/mcauliffe-says-more-half-virginias-teachers-are-50/', 'https://www.politifact.com/rhode-island/statements/2014/may/04/gina-raimondo/gina-raimondo-says-providence-taxes-rose-nearly-27/', 'https://www.politifact.com/texas/statements/2011/jun/14/ted-nugent/ted-nugent-says-rick-perry-first-governor-win-thri/', 'https://en.wikipedia.org/wiki/Jonathan_Gruber_(economist)', 'https://www.politifact.com/truth-o-meter/statements/2015/dec/15/rand-paul/rand-paul-said-marco-rubio-open-border/', 'https://www.politifact.com/wisconsin/statements/2010/sep/03/barack-obama/obama-says-tom-barrett-has-held-line-property-taxe/', 'https://www.politifact.com/virginia/statements/2015/dec/07/bob-goodlatte/goodlattes-says-clim/', 'https://www.politifact.com/missouri/statements/2016/apr/01/peter-kinder/peter-kinder-right-about-high-unemployment-minorit/', 'https://www.politifact.com/new-hampshire/statements/2013/nov/01/kelly-ayotte/ayotte-counts-amount-debt-accrued-presidents-bush-/', 'https://www.cleveland.com/metro/2012/11/possible_lease_of_ohio_turnpik.html', 'https://www.politifact.com/truth-o-meter/statements/2016/aug/29/donald-trump/trump-says-they-were-going-build-wall-06-no-enviro/', 'https://www.politifact.com/truth-o-meter/statements/2008/aug/12/barack-obama/mccain-opposed-buy-american-rules/', 'https://www.politifact.com/truth-o-meter/statements/2014/oct/08/barack-obama/obama-health-care-driving-down-deficit/', 'https://madison.com/ct/news/local/govt-and-politics/election-matters/supreme-court-rules-same-sex-marriage-legal-scott-walker-calls/article_e43421f3-737a-54b8-a785-ddce580efda8.html', 'https://www.politifact.com/truth-o-meter/statements/2015/jul/31/cory-booker/was-prison-built-every-10-days-house-fast-growing-/', 'https://www.politifact.com/texas/statements/2010/jun/28/john-mccain/mccain-says-phoenix-second-kidnapping-capital-worl/', 'https://www.politifact.com/texas/statements/2012/feb/10/ted-cruz/ted-cruz-says-david-dewhurst-has-record-promoting-/', 'https://en.wikipedia.org/wiki/Massachusetts_health_care_reform', 'https://www.politifact.com/texas/statements/2014/sep/25/wendy-davis/wendy-davis-catches-fire-incorrect-claim-about-gre/', 'https://www.politifact.com/oregon/statements/2011/jun/06/jeff-kruse/state-senator-says-two-states-bottle-bill-systems-/', 'https://www.politifact.com/personalities/sherrod-brown/statements/byruling/false/', 'https://www.politifact.com/virginia/statements/2011/may/21/terry-mcauliffe/mcauliffe-says-mcdonnell-job-creation-effort-hasnt/', 'https://www.politifact.com/florida/statements/2010/jul/23/maurice-ferre/ferre-half-true-chinas-rise-energy-leader/', 'https://www.politifact.com/california/statements/2016/jun/25/john-garamendi/gun-claim-california-congressman-doesnt-fly/', 'https://www.politifact.com/wisconsin/statements/2014/jul/29/chris-moews/chris-moews-says-clarke-decision-lakefront-patrols/', 'https://www.politifact.com/virginia/statements/2015/feb/23/scott-surovell/surovell-says-decline-caol-started-under-george-w-/', 'https://www.politifact.com/truth-o-meter/statements/2012/oct/12/paul-ryan/ryan-obama-promised-unemployment-would-not-exceed-/', 'https://www.politifact.com/texas/statements/2014/mar/07/lee-leffingwell/austins-population-has-doubled-every-25-years-or-s/', 'https://www.politifact.com/truth-o-meter/statements/2013/nov/06/barack-obama/barack-obama-says-what-hed-said-was-you-could-keep/', 'https://www.politifact.com/rhode-island/statements/2012/may/06/sheldon-whitehouse/sheldon-whitehouse-said-47-billion-raised-over-10-/', 'https://www.politifact.com/florida/statements/2010/oct/05/rick-scott/rick-scott-says-alex-sink-funneled-770k-her-former/', 'https://www.politifact.com/truth-o-meter/statements/2008/oct/02/joe-biden/mccains-tax-plan-doesnt-ignore-middle-class/', 'https://www.politifact.com/new-hampshire/statements/2014/oct/10/jeanne-shaheen/jeanne-shahee-says-scott-brown-backed-measure-let-/', 'https://www.politifact.com/truth-o-meter/statements/2010/may/10/rudy-giuliani/giuliani-says-us-only-questioned-underwear-bomber-/', 'https://www.politifact.com/texas/statements/2010/jun/21/jerry-patterson/patterson-says-napolitano-wont-say-terrorist-attac/', 'https://www.politifact.com/wisconsin/statements/2010/sep/22/tom-barrett/tom-barrett-says-milwaukee-violent-crime-lowest-po/', 'https://www.politifact.com/truth-o-meter/statements/2007/dec/21/bill-richardson/he-hypes-the-language-the-numbers/', 'https://www.politifact.com/truth-o-meter/article/2014/aug/14/fact-checks-obama-coal-rules-carbon-politics/', 'https://www.politifact.com/rhode-island/statements/2013/jul/14/patricia-morgan/rep-patricia-morgan-says-9-percent-rhode-island-wo/', 'https://www.politifact.com/truth-o-meter/statements/2012/jul/31/mitt-romney/romney-said-reagan-sent-troops-conflict-only-once/', 'https://www.politifact.com/truth-o-meter/staff/nell-benton/', 'https://www.politifact.com/texas/statements/2011/aug/14/mitt-romney/mitt-romney-says-poll-showed-him-only-republican-b/', 'https://www.politifact.com/truth-o-meter/statements/2008/feb/06/barack-obama/obama-voted-consistently-for-abortion-rights/', 'https://www.politifact.com/ohio/statements/2013/jan/17/tom-niehaus/tom-niehaus-says-80-percent-bills-passed-last-ohio/', 'https://www.politifact.com/texas/statements/2012/aug/23/bruce-elfant/bruce-elfant-says-88-texas-constables-have-died-li/', 'https://www.politifact.com/truth-o-meter/statements/2015/mar/16/mitch-mcconnell/mitch-mcconnell-john-kerry-visited-nicaragua-1980s/']\n"
     ]
    }
   ],
   "source": [
    "\n",
    "df6 = pd.read_csv('../../Task/BigTask/Parsed-results_S6.csv')\n",
    "df100 = pd.read_csv('../../Task/BigTask/Parsed-results_S100.csv')\n",
    "\n",
    "print(df6.shape[0])\n",
    "print(df100.shape[0])\n",
    "\n",
    "S6_urls_list = df6['url'].tolist()\n",
    "S100_urls_list = df100['url'].tolist()\n",
    "\n",
    "f = open(r\"C:\\Users\\barbe\\Dropbox\\FakeNews-thesis-LaBarbera\\Docs_URLS\\search.txt\", \"r\")\n",
    "urls = []\n",
    "for line in f:\n",
    "    line = line.strip('\\n')\n",
    "    urls.append(line)\n",
    "\n",
    "S6_urls = []\n",
    "count = 0\n",
    "for url in urls:\n",
    "    o = urlparse(url)\n",
    "    for base in S6_urls_list:\n",
    "        u = urlparse(base)\n",
    "        if(o == u):\n",
    "            S6_urls.append(url)\n",
    "            count += 1\n",
    "            #print(\"GOTCHA\")\n",
    "\n",
    "print(\"S6 Scale same urls count: {}\".format(count))\n",
    "\n",
    "S100_urls = []\n",
    "count = 0\n",
    "for url in urls:\n",
    "    o = urlparse(url)\n",
    "    for base in S100_urls_list:\n",
    "        u = urlparse(base)\n",
    "        if(o == u):\n",
    "            S100_urls.append(url)\n",
    "            count += 1\n",
    "            #print(\"GOTCHA\")\n",
    "print(\"S100 Scale same urls count: {}\".format(count))\n",
    "\n",
    "final = []\n",
    "count = 0\n",
    "for url in S6_urls:\n",
    "    o = urlparse(url)\n",
    "    for base in S100_urls:\n",
    "        u = urlparse(base)\n",
    "        if(o == u):\n",
    "            count += 1\n",
    "            final.append(base)\n",
    "print(\"Same urls count: {}\".format(count))\n",
    "print(\"done.\")\n",
    "mylist = list(set(final))\n",
    "print(\"Same urls count: {}\".format(len(mylist)))\n",
    "print(\"done.\")\n",
    "print(mylist)"
   ]
  }
 ],
 "metadata": {
  "kernelspec": {
   "display_name": "Python 3",
   "language": "python",
   "name": "python3"
  },
  "language_info": {
   "codemirror_mode": {
    "name": "ipython",
    "version": 3
   },
   "file_extension": ".py",
   "mimetype": "text/x-python",
   "name": "python",
   "nbconvert_exporter": "python",
   "pygments_lexer": "ipython3",
   "version": "3.6.4"
  }
 },
 "nbformat": 4,
 "nbformat_minor": 2
}
