{
 "cells": [
  {
   "cell_type": "code",
   "execution_count": 3,
   "metadata": {},
   "outputs": [],
   "source": [
    "import json, csv, os, ast\n",
    "from os import listdir\n",
    "from os.path import isfile, join\n",
    "import pandas as pd\n",
    "import numpy as np\n",
    "import scipy as sp\n",
    "from scipy import stats\n",
    "from IPython.display import display, HTML\n",
    "import xml.etree.ElementTree\n",
    "import seaborn as sns\n",
    "import pylab as plt\n",
    "from matplotlib.backends.backend_pdf import PdfPages\n",
    "from collections import Counter\n",
    "from statsmodels.sandbox.stats.multicomp import multipletests\n",
    "from matplotlib import colors\n",
    "%matplotlib inline\n",
    "sns.set_style('whitegrid')\n",
    "plt.rcParams['figure.figsize']=(5,4)\n",
    "import matplotlib\n",
    "matplotlib.rcParams['pdf.fonttype'] = 42\n",
    "matplotlib.rcParams['ps.fonttype'] = 42"
   ]
  },
  {
   "cell_type": "code",
   "execution_count": 5,
   "metadata": {},
   "outputs": [],
   "source": [
    "gold_dict = ['HIGH', 'LOW']\n",
    "\n",
    "def party_ln_replace(n):\n",
    "    if (n == 1):\n",
    "        return 'REP'\n",
    "    if(n == 2):\n",
    "        return 'DEM'\n",
    "    \n",
    "def get_party(doc_name):\n",
    "    temp = doc_name.split('_')\n",
    "    return temp[0]\n",
    "\n",
    "def find_domain(url):\n",
    "    st = url.split(\"/\")\n",
    "    return st[2]"
   ]
  },
  {
   "cell_type": "code",
   "execution_count": 17,
   "metadata": {},
   "outputs": [
    {
     "name": "stderr",
     "output_type": "stream",
     "text": [
      "c:\\users\\barbe\\anaconda3\\lib\\site-packages\\ipykernel_launcher.py:6: SettingWithCopyWarning: \n",
      "A value is trying to be set on a copy of a slice from a DataFrame\n",
      "\n",
      "See the caveats in the documentation: http://pandas.pydata.org/pandas-docs/stable/indexing.html#indexing-view-versus-copy\n",
      "  \n"
     ]
    }
   ],
   "source": [
    "rel = 'S100'\n",
    "df = pd.read_csv('../../Task/BigTask/Parsed-results_{}.csv'.format(rel))\n",
    "if(rel == \"S100\"):\n",
    "    df =  df.dropna()\n",
    "    df[\"{}_rel\".format(rel)] = df[\"{}_rel\".format(rel)].astype(int)\n",
    "    df['url'][80] = \"http://www.fakeURL.com\"\n",
    "    df['url'][373] = \"http://www.fakeURL.com\"\n",
    "\n",
    "df = df[['doc_id', 'party_ln', '{}_rel'.format(rel), 'rel', 'url']]\n",
    "df = df[df[\"rel\"].isin(gold_dict) == False]\n",
    "#df = df.replace('LIE', 0).replace('FALSE', 1).replace('BARELYTRUE', 2).replace('HALFTRUE', 3).replace('MOSTLYTRUE', 4).replace('TRUE', 5)\n",
    "    \n",
    "df['worker_party'] = df.apply(lambda row: party_ln_replace(row.party_ln), axis = 1)\n",
    "\n",
    "df['party_doc'] = df['doc_id']\n",
    "df['party_doc'] = df.apply(lambda row: get_party(row.party_doc), axis = 1)\n",
    "\n",
    "df['url'] = df.apply(lambda row: find_domain(row.url), axis = 1)\n",
    "#display(df.head(2))\n",
    "\n",
    "dem_df = df.loc[df['worker_party'] == 'DEM']\n",
    "rep_df = df.loc[df['worker_party'] == 'REP']\n",
    "\n",
    "dem_df.to_csv(\"../../Task/BigTask/dem_df_{}.csv\".format(rel), index=False, header=True)\n",
    "rep_df.to_csv(\"../../Task/BigTask/rep_df_{}.csv\".format(rel), index=False, header=True)"
   ]
  },
  {
   "cell_type": "code",
   "execution_count": 16,
   "metadata": {},
   "outputs": [],
   "source": [
    "dem_dem_df = df.loc[(df['worker_party'] == 'DEM') & (df['party_doc'] == 'DEM')]\n",
    "dem_rep_df = df.loc[(df['worker_party'] == 'DEM') & (df['party_doc'] == 'REP')]\n",
    "rep_rep_df = df.loc[(df['worker_party'] == 'REP') & (df['party_doc'] == 'REP')]\n",
    "rep_dem_df = df.loc[(df['worker_party'] == 'REP') & (df['party_doc'] == 'DEM')]\n",
    "\n",
    "dem_dem_df.to_csv(\"../../Task/BigTask/dem_dem_df_{}.csv\".format(rel), index=False, header=True)\n",
    "dem_rep_df.to_csv(\"../../Task/BigTask/dem_rep_df_{}.csv\".format(rel), index=False, header=True)\n",
    "rep_rep_df.to_csv(\"../../Task/BigTask/rep_rep_df_{}.csv\".format(rel), index=False, header=True)\n",
    "rep_dem_df.to_csv(\"../../Task/BigTask/rep_dem_df_{}.csv\".format(rel), index=False, header=True)"
   ]
  }
 ],
 "metadata": {
  "kernelspec": {
   "display_name": "Python 3",
   "language": "python",
   "name": "python3"
  },
  "language_info": {
   "codemirror_mode": {
    "name": "ipython",
    "version": 3
   },
   "file_extension": ".py",
   "mimetype": "text/x-python",
   "name": "python",
   "nbconvert_exporter": "python",
   "pygments_lexer": "ipython3",
   "version": "3.6.4"
  }
 },
 "nbformat": 4,
 "nbformat_minor": 2
}
