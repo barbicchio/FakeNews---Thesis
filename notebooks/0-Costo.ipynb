{
 "cells": [
  {
   "cell_type": "code",
   "execution_count": 1,
   "metadata": {},
   "outputs": [],
   "source": [
    "import os\n",
    "import pandas as pd\n",
    "import numpy as np\n",
    "import scipy as sp\n",
    "from IPython.display import display, HTML\n",
    "import random\n",
    "import itertools\n",
    "\n",
    "from math import factorial\n",
    "from IPython.core.display import display, HTML"
   ]
  },
  {
   "cell_type": "code",
   "execution_count": null,
   "metadata": {},
   "outputs": [],
   "source": []
  },
  {
   "cell_type": "code",
   "execution_count": 8,
   "metadata": {},
   "outputs": [],
   "source": [
    "# ELENCO PARAMETRI\n",
    "# | Docs per categoria | Docs ogni HIT | Gold Q. ogni HIT | Ripetizioni doc | Prezzo | Tasse |\n",
    "def compute_cost(docs_per_category, docs_each_hit, gold_each_hit, repetitions_each_doc, price):\n",
    "    # Categorie presenti\n",
    "    categories = ['LIE', 'FALSE', 'BARELYTRUE', 'HALFTRUE', 'MOSTLYTRUE', 'TRUE']\n",
    "    no_categories = len(categories)\n",
    "    # Numero totale documenti\n",
    "    total_docs = docs_per_category * no_categories * repetitions_each_doc\n",
    "    # Numero totale documenti per ogni HIT\n",
    "    total_docs_each_hit = docs_each_hit + gold_each_hit\n",
    "    \n",
    "    assert total_docs % docs_each_hit == 0, 'Errore1'\n",
    "    assert docs_each_hit % no_categories == 0, 'Errore2'\n",
    "\n",
    "    hits_required = total_docs / docs_each_hit\n",
    "    assert total_docs % docs_each_hit == 0, 'HITS: {} --> no integer HITs'.format(hits_required)\n",
    "    # Prezzo totale\n",
    "    price_total = (price * hits_required)\n",
    "    \n",
    "    # Tasse\n",
    "    fees = (price_total * 20 ) / 100\n",
    "    \n",
    "    # Prezzo totale + tasse\n",
    "    price_total_fees = price_total + fees\n",
    "    \n",
    "    print( \"Total: {} documents.\\n\\nHITS Required: {} \\nEstimated Cost: {}$\\nFees: {}\\nEstimated Cost + Fees: {}$\"\n",
    "          .format(int(total_docs), int(hits_required),\n",
    "                  int(price_total),int(fees), int(price_total_fees)))"
   ]
  },
  {
   "cell_type": "code",
   "execution_count": 9,
   "metadata": {},
   "outputs": [
    {
     "name": "stdout",
     "output_type": "stream",
     "text": [
      "Total: 600 documents.\n",
      "\n",
      "HITS Required: 100 \n",
      "Estimated Cost: 20$\n",
      "Fees: 4\n",
      "Estimated Cost + Fees: 24$\n"
     ]
    }
   ],
   "source": [
    "# | Docs per ogni categoria | Docs ogni HIT | Gold Q. ogni HIT | Ripetizioni doc | Prezzo |\n",
    "compute_cost(20, 6, 2, 5, 0.2)"
   ]
  },
  {
   "cell_type": "code",
   "execution_count": null,
   "metadata": {},
   "outputs": [],
   "source": []
  },
  {
   "cell_type": "code",
   "execution_count": null,
   "metadata": {},
   "outputs": [],
   "source": []
  }
 ],
 "metadata": {
  "kernelspec": {
   "display_name": "Python 3",
   "language": "python",
   "name": "python3"
  },
  "language_info": {
   "codemirror_mode": {
    "name": "ipython",
    "version": 3
   },
   "file_extension": ".py",
   "mimetype": "text/x-python",
   "name": "python",
   "nbconvert_exporter": "python",
   "pygments_lexer": "ipython3",
   "version": "3.6.4"
  }
 },
 "nbformat": 4,
 "nbformat_minor": 2
}
