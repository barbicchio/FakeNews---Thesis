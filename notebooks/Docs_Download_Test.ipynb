{
 "cells": [
  {
   "cell_type": "code",
   "execution_count": 7,
   "metadata": {},
   "outputs": [
    {
     "data": {
      "text/plain": [
       "b'HIGH=++=HIGH=++=Yes, We can!=++=Barack Obama=++=Former U.S. President=++=Public appearance=++=democrat'"
      ]
     },
     "metadata": {},
     "output_type": "display_data"
    },
    {
     "data": {
      "text/plain": [
       "b'LOW=++=LOW=++=If I were not a Formula One pilot, I would be a football player.=++=Abraham Lincoln=++=Former U.S. President=++=Public appearance=++=republican'"
      ]
     },
     "metadata": {},
     "output_type": "display_data"
    }
   ],
   "source": [
    "import urllib.request\n",
    "categories = ['LIE', 'FALSE', 'BARELYTRUE', 'HALFTRUE', 'MOSTLYTRUE', 'TRUE']\n",
    "par = ['DEM', 'REP']\n",
    "docs_per_cat = 20\n",
    "docs_per_cat_by_party = int(docs_per_cat/len(par))\n",
    "\n",
    "\n",
    "pool_rep = {\"{}\".format(categories[j]):[\"REP_{}_doc{}\".format(categories[j], i + 1) \n",
    "                                        for i in range(docs_per_cat_by_party)] for j in range(len(categories))}\n",
    "pool_dem = {\"{}\".format(categories[j]):[\"DEM_{}_doc{}\".format(categories[j], i + 1) \n",
    "                                        for i in range(docs_per_cat_by_party)] for j in range(len(categories))}\n",
    "\n",
    "\n",
    "#for label in pool_dem:\n",
    "#    for doc in pool_dem[label]:\n",
    "#        contents=urllib.request.urlopen(\"https://kevinr.s3.us-east-2.amazonaws.com/FakeNews-LaBarbera/Task/{}.txt\".format(doc)).read()\n",
    "#        display(contents)\n",
    "    \n",
    "\n",
    "contents = urllib.request.urlopen(\"https://kevinr.s3.us-east-2.amazonaws.com/FakeNews-LaBarbera/Task/HIGH.txt\").read()\n",
    "display(contents)\n",
    "contents = urllib.request.urlopen(\"https://kevinr.s3.us-east-2.amazonaws.com/FakeNews-LaBarbera/Task/LOW.txt\").read()\n",
    "display(contents)"
   ]
  }
 ],
 "metadata": {
  "kernelspec": {
   "display_name": "Python 3",
   "language": "python",
   "name": "python3"
  },
  "language_info": {
   "codemirror_mode": {
    "name": "ipython",
    "version": 3
   },
   "file_extension": ".py",
   "mimetype": "text/x-python",
   "name": "python",
   "nbconvert_exporter": "python",
   "pygments_lexer": "ipython3",
   "version": "3.6.4"
  }
 },
 "nbformat": 4,
 "nbformat_minor": 2
}
